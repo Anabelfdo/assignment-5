{
  "nbformat": 4,
  "nbformat_minor": 0,
  "metadata": {
    "colab": {
      "name": "Untitled0.ipynb",
      "provenance": []
    },
    "kernelspec": {
      "name": "python3",
      "display_name": "Python 3"
    },
    "language_info": {
      "name": "python"
    }
  },
  "cells": [
    {
      "cell_type": "code",
      "metadata": {
        "colab": {
          "base_uri": "https://localhost:8080/"
        },
        "id": "Clhee085m7-P",
        "outputId": "682e16a2-d500-4c16-b52a-6af90b70ea12"
      },
      "source": [
        "pip install pytube"
      ],
      "execution_count": 26,
      "outputs": [
        {
          "output_type": "stream",
          "text": [
            "Collecting pytube\n",
            "\u001b[?25l  Downloading https://files.pythonhosted.org/packages/2f/b3/79ff390d742181ee52d61ed9ae973a5a66d90d648751dbdab938de31da98/pytube-10.8.5-py3-none-any.whl (46kB)\n",
            "\r\u001b[K     |███████                         | 10kB 16.5MB/s eta 0:00:01\r\u001b[K     |██████████████                  | 20kB 22.1MB/s eta 0:00:01\r\u001b[K     |█████████████████████           | 30kB 13.5MB/s eta 0:00:01\r\u001b[K     |████████████████████████████    | 40kB 10.5MB/s eta 0:00:01\r\u001b[K     |████████████████████████████████| 51kB 4.5MB/s \n",
            "\u001b[?25hInstalling collected packages: pytube\n",
            "Successfully installed pytube-10.8.5\n"
          ],
          "name": "stdout"
        }
      ]
    },
    {
      "cell_type": "code",
      "metadata": {
        "colab": {
          "base_uri": "https://localhost:8080/",
          "height": 35
        },
        "id": "sgvd-p4TnKx5",
        "outputId": "4d66a804-4d80-4580-b43b-49f385746ed2"
      },
      "source": [
        "from pytube import YouTube\n",
        "link=\"https://youtu.be/2pOVz45p8Ho\"\n",
        "video = YouTube(link)\n",
        "stream = video.streams.get_highest_resolution()\n",
        "stream.download()\n"
      ],
      "execution_count": 28,
      "outputs": [
        {
          "output_type": "execute_result",
          "data": {
            "application/vnd.google.colaboratory.intrinsic+json": {
              "type": "string"
            },
            "text/plain": [
              "'/content/Naam - Adi Penne (Duet) Official Video [4K] - T Suriavelan  Rupiny  Stephen Zechariah ft Srinisha.mp4'"
            ]
          },
          "metadata": {
            "tags": []
          },
          "execution_count": 28
        }
      ]
    },
    {
      "cell_type": "code",
      "metadata": {
        "colab": {
          "base_uri": "https://localhost:8080/"
        },
        "id": "2VqCfIHsnV7J",
        "outputId": "c9e98135-b167-4286-e044-922354845c67"
      },
      "source": [
        "num = int(input(\"Enter a number: \"))  \n",
        "  \n",
        "if num > 1:  \n",
        "   for i in range(2,num):  \n",
        "       if (num % i) == 0:  \n",
        "           print(num,\"is not a prime number\")  \n",
        "           print(i,\"times\",num//i,\"is\",num)  \n",
        "           break  \n",
        "   else:  \n",
        "       print(num,\"is a prime number\")  \n",
        "         \n",
        "else:  \n",
        "   print(num,\"is not a prime number\")  "
      ],
      "execution_count": 30,
      "outputs": [
        {
          "output_type": "stream",
          "text": [
            "Enter a number: 2619\n",
            "2619 is not a prime number\n",
            "3 times 873 is 2619\n"
          ],
          "name": "stdout"
        }
      ]
    },
    {
      "cell_type": "code",
      "metadata": {
        "colab": {
          "base_uri": "https://localhost:8080/"
        },
        "id": "XXOaS-66vguY",
        "outputId": "e6e64574-e3cd-4809-d068-fd51e56bc63e"
      },
      "source": [
        "num = int(input(\"Enter a number: \"))  \n",
        "  \n",
        "if num > 1:  \n",
        "   for i in range(2,num):  \n",
        "       if (num % i) == 0:  \n",
        "           print(num,\"is not a prime number\")  \n",
        "           print(i,\"times\",num//i,\"is\",num)  \n",
        "           break  \n",
        "   else:  \n",
        "       print(num,\"is a prime number\")  \n",
        "         \n",
        "else:  \n",
        "   print(num,\"is not a prime number\")  "
      ],
      "execution_count": 32,
      "outputs": [
        {
          "output_type": "stream",
          "text": [
            "Enter a number: 5\n",
            "5 is a prime number\n"
          ],
          "name": "stdout"
        }
      ]
    }
  ]
}